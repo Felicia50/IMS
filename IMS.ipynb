{
  "nbformat": 4,
  "nbformat_minor": 0,
  "metadata": {
    "colab": {
      "name": "IMS.ipynb",
      "provenance": [],
      "collapsed_sections": [],
      "authorship_tag": "ABX9TyNNZ84CO/lhBW+wMpBBHEGG",
      "include_colab_link": true
    },
    "kernelspec": {
      "name": "python3",
      "display_name": "Python 3"
    },
    "language_info": {
      "name": "python"
    }
  },
  "cells": [
    {
      "cell_type": "markdown",
      "metadata": {
        "id": "view-in-github",
        "colab_type": "text"
      },
      "source": [
        "<a href=\"https://colab.research.google.com/github/Felicia50/IMS/blob/main/IMS.ipynb\" target=\"_parent\"><img src=\"https://colab.research.google.com/assets/colab-badge.svg\" alt=\"Open In Colab\"/></a>"
      ]
    },
    {
      "cell_type": "code",
      "metadata": {
        "id": "g5XAB-lwvM6F"
      },
      "source": [
        "import json\n",
        "fd=open(\"products.json\",\"w\")"
      ],
      "execution_count": null,
      "outputs": []
    },
    {
      "cell_type": "code",
      "metadata": {
        "id": "hp_XPmqn1ebt"
      },
      "source": [
        "avail_prod={\n",
        "    101:{\"Product\":\"Fancy pencil\",\"Price\": 40,\"Quantity\":200},\n",
        "    102:{\"Product\":\"Ball point pen\",\"Price\":15,\"Quantity\":100},\n",
        "    103:{\"Product\":\"Fountain pen\",\"Price\":50,\"Quantity\":300},\n",
        "    104:{\"Product\":\"Pencil\",\"Price\":30,\"Quantity\":150},\n",
        "    105:{\"Product\":\"Marker\",\"Price\":55,\"Quantity\":300},\n",
        "    106:{\"Product\":\"Colour pencil\",\"Price\":48,\"Quantity\":105},\n",
        "    107:{\"Product\":\"Cryons\",\"Price\":65,\"Quantity\":100},\n",
        "    108:{\"Product\":\"Colour bottles\",\"Price\":70,\"Quantity\":100},\n",
        "    109:{\"Product\":\"Colour tubes\",\"Price\":39,\"Quantity\":100},\n",
        "    109:{\"Product\":\"Sketch pens\",\"Price\":40,\"Quantity\":150},\n",
        "    110:{\"Product\":\"Water colour\",\"Price\":50,\"Quantity\":55},\n",
        "    111:{\"Product\":\"Palette\",\"Price\":35,\"Quantity\":48},\n",
        "    112:{\"Product\":\"Eraser\",\"Price\":15,\"Quantity\":60},\n",
        "    113:{\"Product\":\"Envelope\",\"Price\":20,\"Quantity\":70},\n",
        "    114:{\"Product\":\"Puncher\",\"Price\":100,\"Quantity\":150},\n",
        "    115:{\"Product\":\"Sticky not pad\",\"Price\":50,\"Quantity\":200},\n",
        "    116:{\"Product\":\"Notebook\",\"Price\":55,\"Quantity\":300},\n",
        "    117:{\"Product\":\"Calculator\",\"Price\":500,\"Quantity\":350},\n",
        "    118:{\"Product\":\"Stapler\",\"Price\":100,\"Quantity\":250},\n",
        "    119:{\"Product\":\"Pen holder\",\"Price\":55,\"Quantity\":180},\n",
        "    120:{\"Product\":\"Tape\",\"Price\":50,\"Quantity\":180},\n",
        "    121:{\"Product\":\"Clip board\",\"Price\":100,\"Quantity\":122},\n",
        "    122:{\"Product\":\"Folder\",\"Price\":70,\"Quantity\":188},\n",
        "    123:{\"Product\":\"Glue\",\"Price\":35,\"Quantity\":200},\n",
        "    124:{\"Product\":\"Brush\",\"Price\":36,\"Quantity\":182},\n",
        "    125:{\"Product\":\"Compass\",\"Price\":50,\"Quantity\":250},\n",
        "    126:{\"Product\":\"Divider\",\"Price\":40,\"Quantity\":240},\n",
        "    127:{\"Product\":\"Chalk box\",\"Price\":50,\"Quantity\":190},\n",
        "    128:{\"Product\":\"Ink\",\"Price\":98,\"Quantity\":200},\n",
        "    129:{\"Product\":\"Scissor\",\"Price\":65,\"Quantity\":300},\n",
        "    130:{\"Product\":\"Pencil box\",\"Price\":65,\"Quantity\":400},\n",
        "    131:{\"Product\":\"Spiral notebooks\",\"Price\":150,\"Quantity\":220},\n",
        "    132:{\"Product\":\"Gel pen\",\"Price\":15,\"Quantity\":168},\n",
        "    133:{\"Product\":\"Bulldog clip\",\"Price\":15,\"Quantity\":99},\n",
        "    134:{\"Product\":\"Tape dispenser\",\"Price\":106,\"Quantity\":128},\n",
        "    135:{\"Product\":\"Paper clip\",\"Price\":10,\"Quantity\":145},\n",
        "}\n",
        "js=json.dumps(avail_prod)"
      ],
      "execution_count": null,
      "outputs": []
    },
    {
      "cell_type": "code",
      "metadata": {
        "colab": {
          "base_uri": "https://localhost:8080/"
        },
        "id": "Zb_8Ed5L9f6c",
        "outputId": "7c19383f-3651-46c8-82a4-1266d8dbd00e"
      },
      "source": [
        "print(\"-------------------------------------------------\")\n",
        "print(\"          JOSEPH STATIONARY\")\n",
        "print(\"WHAT YOU WANT TO DO??\")\n",
        "print(\"Press 1 to view the products available\")\n",
        "print(\"Press 2 to print the total bill amount of the purchased products\")\n",
        "print(\"-------------------------------------------------\")\n",
        "choice=int(input(\"Enter your choise\"))\n",
        "if(choice==1):\n",
        "  print(\"PRODUCTS AVAILABLE ARE:\")\n",
        "  print(js)\n"
      ],
      "execution_count": null,
      "outputs": [
        {
          "name": "stdout",
          "output_type": "stream",
          "text": [
            "-------------------------------------------------\n",
            "          JOSEPH STATIONARY\n",
            "WHAT YOU WANT TO DO??\n",
            "Press 1 to view the products available\n",
            "Press 2 to print the total bill amount of the purchased products\n",
            "-------------------------------------------------\n",
            "Enter your choise2\n"
          ]
        }
      ]
    },
    {
      "cell_type": "code",
      "metadata": {
        "colab": {
          "base_uri": "https://localhost:8080/"
        },
        "id": "JlAY4YdJDE4d",
        "outputId": "b0aca7ff-4682-45c6-eea8-bab15610c582"
      },
      "source": [
        "fd.write(js)"
      ],
      "execution_count": null,
      "outputs": [
        {
          "output_type": "execute_result",
          "data": {
            "text/plain": [
              "2205"
            ]
          },
          "metadata": {},
          "execution_count": 53
        }
      ]
    },
    {
      "cell_type": "code",
      "metadata": {
        "id": "JYtc5qqvDUUc"
      },
      "source": [
        "fd.close()"
      ],
      "execution_count": null,
      "outputs": []
    },
    {
      "cell_type": "code",
      "metadata": {
        "colab": {
          "base_uri": "https://localhost:8080/"
        },
        "id": "-hDmwhM-DrW5",
        "outputId": "8133cbd8-9b89-4765-f623-65e28be3838d"
      },
      "source": [
        "if(choice==2):\n",
        "  fi=open(\"purchasebill.txt\",\"w\")\n",
        "  quant=int(input(\"Enter the number of products you wish to buy:\"))\n",
        "  fd=open(\"products.json\",\"r\")\n",
        "  read=fd.read()\n",
        "  recipt=json.loads(read)\n",
        "  so=\"\\nyou have bought\\t\"\n",
        "  total_amt=0\n",
        "  fi.write(\"JOSEPH STATIONARY\")\n",
        "  fi.write(\"\\nYOUR PURCHASE\")\n",
        "  for i in range(quant):\n",
        "    product_id=str(input(\"Enter the product ID:\"))\n",
        "    product_quant=int(input(\"Enter the quantity:\"))\n",
        "    if product_quant<recipt[product_id][\"Quantity\"]:\n",
        "      recipt[product_id][\"Quantity\"]=recipt[product_id][\"Quantity\"]-product_quant\n",
        "      total_amt+=product_quant*recipt[product_id][\"Price\"]\n",
        "      fi.write(\"\\n3 Product ID : {}\\nProduct name : {} \\nPrice of one quantity: {}\\nQuantity purchased:{}\".format(str(product_id),str(recipt[product_id][\"Product\"]),str(recipt[product_id][\"Price\"]),str(product_quant)))\n",
        "  fi.write(\"\\nTOTAL BILL AMOUNT={}\".format(str(total_amt)))\n",
        "  fi.write(\"\\nTHANK YOU FOR YOUR PURCHASE\\nVISIT AGAIN\")\n"
      ],
      "execution_count": null,
      "outputs": [
        {
          "name": "stdout",
          "output_type": "stream",
          "text": [
            "Enter the number of products you wish to buy:3\n",
            "Enter the product ID:101\n",
            "Enter the quantity:2\n",
            "Enter the product ID:131\n",
            "Enter the quantity:3\n",
            "Enter the product ID:121\n",
            "Enter the quantity:4\n"
          ]
        }
      ]
    },
    {
      "cell_type": "code",
      "metadata": {
        "colab": {
          "base_uri": "https://localhost:8080/"
        },
        "id": "n00IqQlJcNy-",
        "outputId": "b227ca4c-e010-403f-afab-3804d57cb7c9"
      },
      "source": [
        ""
      ],
      "execution_count": null,
      "outputs": [
        {
          "output_type": "execute_result",
          "data": {
            "text/plain": [
              "<_io.TextIOWrapper name='purchase.txt' mode='w' encoding='UTF-8'>"
            ]
          },
          "metadata": {},
          "execution_count": 31
        }
      ]
    }
  ]
}